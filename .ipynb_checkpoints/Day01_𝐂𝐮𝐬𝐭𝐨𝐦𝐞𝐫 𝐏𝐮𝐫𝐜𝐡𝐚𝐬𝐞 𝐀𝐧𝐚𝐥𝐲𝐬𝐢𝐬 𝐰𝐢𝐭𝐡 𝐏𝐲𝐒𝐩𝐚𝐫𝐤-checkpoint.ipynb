{
 "cells": [
  {
   "cell_type": "code",
   "execution_count": 50,
   "id": "1dc03cfd",
   "metadata": {},
   "outputs": [],
   "source": [
    "# Creating DataFrame\n",
    "# Calculate the total purchase amount for each customer"
   ]
  },
  {
   "cell_type": "code",
   "execution_count": 51,
   "id": "f1666c4e",
   "metadata": {},
   "outputs": [],
   "source": [
    "import findspark\n",
    "findspark.init()"
   ]
  },
  {
   "cell_type": "code",
   "execution_count": 52,
   "id": "66102cf8",
   "metadata": {},
   "outputs": [],
   "source": [
    "from pyspark.sql import SparkSession\n",
    "import os,sys"
   ]
  },
  {
   "cell_type": "code",
   "execution_count": 53,
   "id": "93b646de",
   "metadata": {},
   "outputs": [],
   "source": [
    "spark = SparkSession.builder.appName('Day01').getOrCreate()"
   ]
  },
  {
   "cell_type": "code",
   "execution_count": 54,
   "id": "19c23173",
   "metadata": {},
   "outputs": [],
   "source": [
    "data = [(1,100,'2023-01-15'),\n",
    "  (2,150,'2023-02-20'),\n",
    "  (1,200,'2023-03-10'),\n",
    "  (3,50,'2023-04-05'),\n",
    "  (2,120,'2023-05-15'),\n",
    "  (1,300,'2023-06-25')\n",
    "]\n",
    "\n",
    "columns = [\"customer_id\",\"purchase_amount\",\"purchase_date\"]\n",
    "df = spark.createDataFrame(data=data, schema = columns)"
   ]
  },
  {
   "cell_type": "code",
   "execution_count": 55,
   "id": "049f5275",
   "metadata": {},
   "outputs": [
    {
     "name": "stdout",
     "output_type": "stream",
     "text": [
      "+-----------+---------------+-------------+\n",
      "|customer_id|purchase_amount|purchase_date|\n",
      "+-----------+---------------+-------------+\n",
      "|          1|            100|   2023-01-15|\n",
      "|          2|            150|   2023-02-20|\n",
      "|          1|            200|   2023-03-10|\n",
      "|          3|             50|   2023-04-05|\n",
      "|          2|            120|   2023-05-15|\n",
      "|          1|            300|   2023-06-25|\n",
      "+-----------+---------------+-------------+\n",
      "\n"
     ]
    }
   ],
   "source": [
    "df.show()"
   ]
  },
  {
   "cell_type": "code",
   "execution_count": 56,
   "id": "7a1312d5",
   "metadata": {},
   "outputs": [
    {
     "name": "stdout",
     "output_type": "stream",
     "text": [
      "+-----------+--------------------+\n",
      "|customer_id|sum(purchase_amount)|\n",
      "+-----------+--------------------+\n",
      "|          1|                 600|\n",
      "|          2|                 270|\n",
      "|          3|                  50|\n",
      "+-----------+--------------------+\n",
      "\n"
     ]
    }
   ],
   "source": [
    "# Group by the \"Name\" column and calculate the average score for each group\n",
    "result = df.groupBy(\"customer_id\").agg({\"purchase_amount\": \"sum\"})\n",
    "\n",
    "# Show the result\n",
    "result.show()"
   ]
  },
  {
   "cell_type": "markdown",
   "id": "8ae2c807",
   "metadata": {},
   "source": [
    "## Answer"
   ]
  },
  {
   "cell_type": "code",
   "execution_count": 57,
   "id": "a559adba",
   "metadata": {},
   "outputs": [],
   "source": [
    "#Calculate the total purchase amount for each customer\n",
    "from pyspark.sql import SparkSession\n",
    "from pyspark.sql import functions as F"
   ]
  },
  {
   "cell_type": "code",
   "execution_count": 58,
   "id": "6ed464c1",
   "metadata": {},
   "outputs": [],
   "source": [
    "spark_day01 = SparkSession.builder.appName(\"CustomerPurchaseAnalysis\").getOrCreate()"
   ]
  },
  {
   "cell_type": "code",
   "execution_count": 59,
   "id": "dcebec0f",
   "metadata": {},
   "outputs": [],
   "source": [
    "data = [(1,100,'2023-01-15'),\n",
    "  (2,150,'2023-02-20'),\n",
    "  (1,200,'2023-03-10'),\n",
    "  (3,50,'2023-04-05'),\n",
    "  (2,120,'2023-05-15'),\n",
    "  (1,300,'2023-06-25')\n",
    "]\n",
    "\n",
    "columns = [\"customer_id\",\"purchase_amount\",\"purchase_date\"]\n",
    "df = spark.createDataFrame(data=data, schema = columns)"
   ]
  },
  {
   "cell_type": "code",
   "execution_count": 60,
   "id": "f38ddedd",
   "metadata": {},
   "outputs": [
    {
     "name": "stdout",
     "output_type": "stream",
     "text": [
      "+-----------+---------------+-------------+\n",
      "|customer_id|purchase_amount|purchase_date|\n",
      "+-----------+---------------+-------------+\n",
      "|          1|            100|   2023-01-15|\n",
      "|          2|            150|   2023-02-20|\n",
      "|          1|            200|   2023-03-10|\n",
      "|          3|             50|   2023-04-05|\n",
      "|          2|            120|   2023-05-15|\n",
      "|          1|            300|   2023-06-25|\n",
      "+-----------+---------------+-------------+\n",
      "\n"
     ]
    }
   ],
   "source": [
    "df.show()"
   ]
  },
  {
   "cell_type": "code",
   "execution_count": 61,
   "id": "cb5bbf7b",
   "metadata": {},
   "outputs": [],
   "source": [
    "total_purchase_per_customer = df.groupBy(\"customer_id\").agg(F.sum(\"purchase_amount\").alias(\"total_purchase_amount\"))"
   ]
  },
  {
   "cell_type": "code",
   "execution_count": 62,
   "id": "237f06e9",
   "metadata": {},
   "outputs": [
    {
     "name": "stdout",
     "output_type": "stream",
     "text": [
      "+-----------+---------------------+\n",
      "|customer_id|total_purchase_amount|\n",
      "+-----------+---------------------+\n",
      "|          1|                  600|\n",
      "|          2|                  270|\n",
      "|          3|                   50|\n",
      "+-----------+---------------------+\n",
      "\n"
     ]
    }
   ],
   "source": [
    "total_purchase_per_customer.show()"
   ]
  }
 ],
 "metadata": {
  "kernelspec": {
   "display_name": "Python 3 (ipykernel)",
   "language": "python",
   "name": "python3"
  },
  "language_info": {
   "codemirror_mode": {
    "name": "ipython",
    "version": 3
   },
   "file_extension": ".py",
   "mimetype": "text/x-python",
   "name": "python",
   "nbconvert_exporter": "python",
   "pygments_lexer": "ipython3",
   "version": "3.9.7"
  }
 },
 "nbformat": 4,
 "nbformat_minor": 5
}
